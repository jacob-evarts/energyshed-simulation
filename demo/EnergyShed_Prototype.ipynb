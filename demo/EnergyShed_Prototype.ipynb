{
 "cells": [
  {
   "cell_type": "code",
   "execution_count": null,
   "id": "3c819031-81bb-4b42-9131-b01a5bc3ec2b",
   "metadata": {
    "pycharm": {
     "is_executing": true
    }
   },
   "outputs": [],
   "source": [
    "%load_ext autoreload\n",
    "%autoreload 2\n",
    "\n",
    "# Model design\n",
    "import agentpy as ap\n",
    "import networkx as nx\n",
    "import random\n",
    "import numpy as np\n",
    "\n",
    "# Visualization\n",
    "import matplotlib.pyplot as plt\n",
    "import matplotlib.colors as colors\n",
    "import seaborn as sns\n",
    "import IPython\n",
    "\n",
    "from EnergyShedModel import EnergyShedModel\n",
    "\n",
    "random.seed(1)\n",
    "\n",
    "POP_SIZE = 3\n",
    "NUM_NEIGHBORS = 6\n",
    "NUM_STEPS = 100\n",
    "GRID_SIZE = 2"
   ]
  },
  {
   "cell_type": "code",
   "execution_count": null,
   "id": "7f4c60ed-0648-4c5d-b6a2-279ab0588f57",
   "metadata": {},
   "outputs": [],
   "source": [
    "parameters = {\"population\": POP_SIZE, \"number_of_neighbors\": NUM_NEIGHBORS, \"network_randomness\": 0.5, \"steps\": NUM_STEPS, \"grid_size\": (GRID_SIZE, GRID_SIZE)}\n",
    "\n",
    "model = EnergyShedModel(parameters)\n",
    "results = model.run()"
   ]
  },
  {
   "cell_type": "code",
   "execution_count": null,
   "id": "3b580c17",
   "metadata": {},
   "outputs": [],
   "source": [
    "results.reporters"
   ]
  },
  {
   "cell_type": "code",
   "execution_count": null,
   "id": "7839a7a5-b555-4749-955b-01d789d7ca2a",
   "metadata": {},
   "outputs": [],
   "source": [
    "results.variables.EnergyShedModel"
   ]
  },
  {
   "cell_type": "code",
   "execution_count": null,
   "id": "7281df00-3d9a-4a59-b868-3b34701abb5f",
   "metadata": {},
   "outputs": [],
   "source": [
    "color_map = {\"labels\": [\"none\", \"buy\", \"sell\"], \"colors\": [\"b\", \"r\", \"g\"]}\n",
    "\n",
    "def EnergyShed_stackplot(data, ax):\n",
    "    \"\"\"Stackplot of people's condition over time.\"\"\"\n",
    "    x = data.index.get_level_values(\"t\")\n",
    "    y = [data[var] for var in [\"none\", \"buy\", \"sell\"]]\n",
    "\n",
    "    sns.set()\n",
    "    ax.stackplot(x, y, **color_map)\n",
    "\n",
    "    ax.legend()\n",
    "    ax.set_xlim(0, max(1, len(x) - 1))\n",
    "    ax.set_ylim(0, 1)\n",
    "    ax.set_xlabel(\"Time steps\")\n",
    "    ax.set_ylabel(\"Percentage of population\")\n",
    "\n",
    "\n",
    "fig, ax = plt.subplots()\n",
    "EnergyShed_stackplot(results.variables.EnergyShedModel, ax)"
   ]
  },
  {
   "cell_type": "code",
   "execution_count": null,
   "id": "f93c4bcf-6df6-44bb-ae7c-ec26a627f7f2",
   "metadata": {},
   "outputs": [],
   "source": [
    "def animation_plot(m, axs):\n",
    "    ax1, ax2 = axs\n",
    "    ax1.set_title(\"EnergyShed spread\")\n",
    "\n",
    "    # Plot stackplot on first axis\n",
    "    EnergyShed_stackplot(m.output.variables.EnergyShedModel, ax1)\n",
    "\n",
    "    # Plot network on second axis\n",
    "    color_dict = {0: \"b\", -1: \"r\", 1: \"g\"}\n",
    "    colors = [color_dict[c] for c in m.agents.status]\n",
    "    nx.draw_circular(m.network.graph, node_color=colors, node_size=50, ax=ax2)\n",
    "\n",
    "fig, axs = plt.subplots(1, 2, figsize=(8, 4))  # Prepare figure\n",
    "parameters[\"population\"] = 50  # Lower population for better visibility\n",
    "animation = ap.animate(EnergyShedModel(parameters), fig, axs, animation_plot)\n",
    "IPython.display.HTML(animation.to_jshtml())"
   ]
  },
  {
   "cell_type": "code",
   "execution_count": null,
   "id": "2126b788",
   "metadata": {},
   "outputs": [],
   "source": [
    "def animation_plot(model, ax):\n",
    "    group_grid = model.network.attr_grid('status')\n",
    "    color_dict = {0: \"b\", -1: \"r\", 1: \"g\"}\n",
    "    cmap = colors.ListedColormap([color_dict[key] for key in color_dict])  \n",
    "    ap.gridplot(group_grid, cmap=cmap, ax=ax)\n",
    "    ax.set_title(f\"Energyshed model \\n Time-step: {model.t}, \"\n",
    "                 f\"Energy Transfer: {model.get_cost()},\"\n",
    "                 f\"Weather: {model.get_weather()}\")\n",
    "    \n",
    "fig, ax = plt.subplots()\n",
    "model = EnergyShedModel(parameters)\n",
    "animation = ap.animate(model, fig, ax, animation_plot)\n",
    "IPython.display.HTML(animation.to_jshtml())"
   ]
  },
  {
   "attachments": {},
   "cell_type": "markdown",
   "id": "0429e40f",
   "metadata": {},
   "source": [
    "# Experiments"
   ]
  },
  {
   "cell_type": "code",
   "execution_count": null,
   "id": "95fc6040-ff52-42a9-821f-d53334b66987",
   "metadata": {},
   "outputs": [],
   "source": [
    "parameters = {\n",
    "    \"population\": ap.IntRange(100, 1000),\n",
    "    \"number_of_neighbors\": 4,\n",
    "    \"network_randomness\": ap.Range(0.0, 1.0),\n",
    "}\n",
    "\n",
    "sample = ap.Sample(parameters, n=128, method=\"saltelli\", calc_second_order=False)"
   ]
  },
  {
   "cell_type": "code",
   "execution_count": null,
   "id": "3bf64015-dc8f-4120-9cfc-80cfc6640272",
   "metadata": {},
   "outputs": [],
   "source": [
    "exp = ap.Experiment(EnergyShedModel, sample, iterations=10)\n",
    "results = exp.run()"
   ]
  },
  {
   "cell_type": "code",
   "execution_count": null,
   "id": "41313d51-70f3-4af2-a193-24d21e8054ef",
   "metadata": {},
   "outputs": [],
   "source": [
    "results.save()"
   ]
  },
  {
   "cell_type": "code",
   "execution_count": null,
   "id": "3f10464f-9bd9-4617-b07e-bbcf34fe823c",
   "metadata": {},
   "outputs": [],
   "source": [
    "results"
   ]
  },
  {
   "cell_type": "code",
   "execution_count": null,
   "id": "9da36c4b-9f89-4370-a89a-b304137fbfc9",
   "metadata": {},
   "outputs": [],
   "source": [
    "results.reporters.hist();"
   ]
  },
  {
   "cell_type": "code",
   "execution_count": null,
   "id": "b08619ce-337e-497f-a0dd-e056f1fc5fb0",
   "metadata": {},
   "outputs": [],
   "source": [
    "# Sensitivity Analysis"
   ]
  },
  {
   "cell_type": "code",
   "execution_count": null,
   "id": "828f41be-541e-46ba-9db9-f3d0a6f181ca",
   "metadata": {},
   "outputs": [],
   "source": [
    "results.calc_sobol()"
   ]
  },
  {
   "cell_type": "code",
   "execution_count": null,
   "id": "f1d9db1b-dc80-4b27-8a5e-d00359e6769d",
   "metadata": {},
   "outputs": [],
   "source": [
    "def plot_sobol(results):\n",
    "    \"\"\"Bar plot of Sobol sensitivity indices.\"\"\"\n",
    "\n",
    "    sns.set()\n",
    "    fig, axs = plt.subplots(1, 2, figsize=(8, 4))\n",
    "    si_list = results.sensitivity.sobol.groupby(by=\"reporter\")\n",
    "    si_conf_list = results.sensitivity.sobol_conf.groupby(by=\"reporter\")\n",
    "\n",
    "    for (key, si), (_, err), ax in zip(si_list, si_conf_list, axs):\n",
    "        si = si.droplevel(\"reporter\")\n",
    "        err = err.droplevel(\"reporter\")\n",
    "        si.plot.barh(xerr=err, title=key, ax=ax, capsize=3)\n",
    "        ax.set_xlim(0)\n",
    "\n",
    "    axs[0].get_legend().remove()\n",
    "    axs[1].set(ylabel=None, yticklabels=[])\n",
    "    axs[1].tick_params(left=False)\n",
    "    plt.tight_layout()\n",
    "\n",
    "\n",
    "plot_sobol(results)"
   ]
  },
  {
   "cell_type": "code",
   "execution_count": null,
   "id": "58f2970f-5afd-450b-80c7-3a52ef03f8bc",
   "metadata": {},
   "outputs": [],
   "source": [
    "def plot_sensitivity(results):\n",
    "    \"\"\"Show average simulation results for different parameter values.\"\"\"\n",
    "\n",
    "    sns.set()\n",
    "    fig, axs = plt.subplots(2, 2, figsize=(8, 8))\n",
    "    axs = [i for j in axs for i in j]  # Flatten list\n",
    "\n",
    "    data = results.arrange_reporters().astype(\"float\")\n",
    "    params = results.parameters.sample.keys()\n",
    "\n",
    "    for x, ax in zip(params, axs):\n",
    "        for y in results.reporters.columns:\n",
    "            sns.regplot(x=x, y=y, data=data, ax=ax, ci=99, x_bins=15, fit_reg=False, label=y)\n",
    "        ax.set_ylim(0, 1)\n",
    "        ax.set_ylabel(\"\")\n",
    "        ax.legend()\n",
    "\n",
    "    plt.tight_layout()\n",
    "\n",
    "\n",
    "plot_sensitivity(results)"
   ]
  }
 ],
 "metadata": {
  "kernelspec": {
   "display_name": "venv",
   "language": "python",
   "name": "venv"
  },
  "language_info": {
   "codemirror_mode": {
    "name": "ipython",
    "version": 3
   },
   "file_extension": ".py",
   "mimetype": "text/x-python",
   "name": "python",
   "nbconvert_exporter": "python",
   "pygments_lexer": "ipython3",
   "version": "3.10.6"
  },
  "vscode": {
   "interpreter": {
    "hash": "5c7b89af1651d0b8571dde13640ecdccf7d5a6204171d6ab33e7c296e100e08a"
   }
  }
 },
 "nbformat": 4,
 "nbformat_minor": 5
}
