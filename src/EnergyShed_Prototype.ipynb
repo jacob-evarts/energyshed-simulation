{
 "cells": [
  {
   "attachments": {},
   "cell_type": "markdown",
   "id": "92487551",
   "metadata": {},
   "source": [
    "# Imports"
   ]
  },
  {
   "cell_type": "code",
   "execution_count": null,
   "id": "3c819031-81bb-4b42-9131-b01a5bc3ec2b",
   "metadata": {
    "pycharm": {
     "is_executing": true
    }
   },
   "outputs": [],
   "source": [
    "%load_ext autoreload\n",
    "%autoreload 2\n",
    "\n",
    "# Model design\n",
    "import agentpy as ap\n",
    "\n",
    "# Visualization\n",
    "import matplotlib.pyplot as plt\n",
    "from matplotlib.animation import FuncAnimation\n",
    "import matplotlib.colors as colors\n",
    "import seaborn as sns\n",
    "import IPython\n",
    "import numpy as np\n",
    "\n",
    "from EnergyShedModel import EnergyShedModel\n",
    "from plots import status_stackplot, cost_lineplot, transfer_lineplot, reward_lineplot, animation_plot, q_values_plot"
   ]
  },
  {
   "attachments": {},
   "cell_type": "markdown",
   "id": "f8bcab3f",
   "metadata": {},
   "source": [
    "# Model parameters"
   ]
  },
  {
   "cell_type": "code",
   "execution_count": null,
   "id": "6546695a",
   "metadata": {},
   "outputs": [],
   "source": [
    "NUM_STEPS = 7\n",
    "\n",
    "GRID_SIZE = 20\n",
    "POP_SIZE = GRID_SIZE * GRID_SIZE\n",
    "\n",
    "SUNNY_PROB = 0.75\n",
    "PERCENT_PRODUCERS = 0.5"
   ]
  },
  {
   "attachments": {},
   "cell_type": "markdown",
   "id": "dc7cd459",
   "metadata": {},
   "source": [
    "# Grid agent"
   ]
  },
  {
   "cell_type": "code",
   "execution_count": null,
   "id": "7f4c60ed-0648-4c5d-b6a2-279ab0588f57",
   "metadata": {},
   "outputs": [],
   "source": [
    "parameters = {\"population\": POP_SIZE, \"steps\": NUM_STEPS, \"grid_size\": (GRID_SIZE, GRID_SIZE), \"agent_type\": \"grid\", \"sunny_prob\" : SUNNY_PROB, \"percent_producers\": PERCENT_PRODUCERS}\n",
    "\n",
    "model = EnergyShedModel(parameters)\n",
    "results = model.run()\n",
    "\n",
    "results.reporters\n",
    "# results.variables.EnergyShedModel"
   ]
  },
  {
   "attachments": {},
   "cell_type": "markdown",
   "id": "0bfc8f0f",
   "metadata": {},
   "source": [
    "### Visualization"
   ]
  },
  {
   "cell_type": "code",
   "execution_count": null,
   "id": "e0347aa2",
   "metadata": {},
   "outputs": [],
   "source": [
    "fig, ax = plt.subplots()\n",
    "status_stackplot(results.variables.EnergyShedModel, ax)"
   ]
  },
  {
   "cell_type": "code",
   "execution_count": null,
   "id": "8d1edd82",
   "metadata": {},
   "outputs": [],
   "source": [
    "fig, (ax1, ax2) = plt.subplots(nrows=1, ncols=2, figsize=(10, 5))\n",
    "cost_lineplot(results.variables.EnergyShedModel, ax=ax1)\n",
    "transfer_lineplot(results.variables.EnergyShedModel, ax=ax2)\n",
    "fig.suptitle(\"Grid Model Results\")"
   ]
  },
  {
   "cell_type": "code",
   "execution_count": null,
   "id": "b91999c0",
   "metadata": {},
   "outputs": [],
   "source": [
    "fig, ax = plt.subplots()\n",
    "model = EnergyShedModel(parameters)\n",
    "animation = ap.animate(model, fig, ax, animation_plot)\n",
    "IPython.display.HTML(animation.to_jshtml())"
   ]
  },
  {
   "attachments": {},
   "cell_type": "markdown",
   "id": "868761f9",
   "metadata": {},
   "source": [
    "# Reflex agents"
   ]
  },
  {
   "attachments": {},
   "cell_type": "markdown",
   "id": "db453235",
   "metadata": {},
   "source": [
    "## Selling agent"
   ]
  },
  {
   "cell_type": "code",
   "execution_count": null,
   "id": "dd7144b5",
   "metadata": {},
   "outputs": [],
   "source": [
    "parameters = {\"population\": POP_SIZE, \"steps\": NUM_STEPS, \"grid_size\": (GRID_SIZE, GRID_SIZE), \"agent_type\": \"reflex_sell\", \"sunny_prob\" : SUNNY_PROB, \"percent_producers\": PERCENT_PRODUCERS}\n",
    "\n",
    "model = EnergyShedModel(parameters)\n",
    "results = model.run()\n",
    "results.reporters"
   ]
  },
  {
   "attachments": {},
   "cell_type": "markdown",
   "id": "bbd344d6",
   "metadata": {},
   "source": [
    "### Visualization"
   ]
  },
  {
   "cell_type": "code",
   "execution_count": null,
   "id": "ec000b42",
   "metadata": {},
   "outputs": [],
   "source": [
    "fig, ax = plt.subplots()\n",
    "status_stackplot(results.variables.EnergyShedModel, ax)"
   ]
  },
  {
   "cell_type": "code",
   "execution_count": null,
   "id": "833d7383",
   "metadata": {},
   "outputs": [],
   "source": [
    "fig, (ax1, ax2) = plt.subplots(nrows=1, ncols=2, figsize=(10, 5))\n",
    "cost_lineplot(results.variables.EnergyShedModel, ax=ax1)\n",
    "transfer_lineplot(results.variables.EnergyShedModel, ax=ax2)\n",
    "fig.suptitle(\"Reflex Model\")"
   ]
  },
  {
   "cell_type": "code",
   "execution_count": null,
   "id": "2126b788",
   "metadata": {},
   "outputs": [],
   "source": [
    "fig, ax = plt.subplots()\n",
    "model = EnergyShedModel(parameters)\n",
    "animation = ap.animate(model, fig, ax, animation_plot)\n",
    "IPython.display.HTML(animation.to_jshtml())"
   ]
  },
  {
   "attachments": {},
   "cell_type": "markdown",
   "id": "46e5f4d1",
   "metadata": {},
   "source": [
    "## Storing agent"
   ]
  },
  {
   "cell_type": "code",
   "execution_count": null,
   "id": "f544d1da",
   "metadata": {},
   "outputs": [],
   "source": [
    "parameters = {\"population\": POP_SIZE, \"steps\": NUM_STEPS, \"grid_size\": (GRID_SIZE, GRID_SIZE), \"agent_type\": \"reflex_store\", \"sunny_prob\" : SUNNY_PROB, \"percent_producers\": PERCENT_PRODUCERS}\n",
    "\n",
    "model = EnergyShedModel(parameters)\n",
    "results = model.run()\n",
    "results.reporters"
   ]
  },
  {
   "attachments": {},
   "cell_type": "markdown",
   "id": "e5a79240",
   "metadata": {},
   "source": [
    "### Visualization"
   ]
  },
  {
   "cell_type": "code",
   "execution_count": null,
   "id": "8778c16d",
   "metadata": {},
   "outputs": [],
   "source": [
    "fig, ax = plt.subplots()\n",
    "status_stackplot(results.variables.EnergyShedModel, ax)"
   ]
  },
  {
   "cell_type": "code",
   "execution_count": null,
   "id": "bc234f36",
   "metadata": {},
   "outputs": [],
   "source": [
    "fig, (ax1, ax2) = plt.subplots(nrows=1, ncols=2, figsize=(10, 5))\n",
    "cost_lineplot(results.variables.EnergyShedModel, ax=ax1)\n",
    "transfer_lineplot(results.variables.EnergyShedModel, ax=ax2)\n",
    "fig.suptitle(\"Reflex Model\")"
   ]
  },
  {
   "cell_type": "code",
   "execution_count": null,
   "id": "355aa23b",
   "metadata": {},
   "outputs": [],
   "source": [
    "fig, ax = plt.subplots()\n",
    "model = EnergyShedModel(parameters)\n",
    "animation = ap.animate(model, fig, ax, animation_plot)\n",
    "IPython.display.HTML(animation.to_jshtml())"
   ]
  },
  {
   "attachments": {},
   "cell_type": "markdown",
   "id": "c3ccd62e",
   "metadata": {},
   "source": [
    "# Q-learning agent"
   ]
  },
  {
   "cell_type": "code",
   "execution_count": 50,
   "id": "4490d640",
   "metadata": {},
   "outputs": [
    {
     "name": "stdout",
     "output_type": "stream",
     "text": [
      "Completed: 7 steps\n",
      "Run time: 0:00:02.295286\n",
      "Simulation finished\n"
     ]
    },
    {
     "data": {
      "text/html": [
       "<div>\n",
       "<style scoped>\n",
       "    .dataframe tbody tr th:only-of-type {\n",
       "        vertical-align: middle;\n",
       "    }\n",
       "\n",
       "    .dataframe tbody tr th {\n",
       "        vertical-align: top;\n",
       "    }\n",
       "\n",
       "    .dataframe thead th {\n",
       "        text-align: right;\n",
       "    }\n",
       "</style>\n",
       "<table border=\"1\" class=\"dataframe\">\n",
       "  <thead>\n",
       "    <tr style=\"text-align: right;\">\n",
       "      <th></th>\n",
       "      <th>seed</th>\n",
       "      <th>Per household local energy transfer</th>\n",
       "      <th>Per household grid energy transfer</th>\n",
       "      <th>Peak energy production</th>\n",
       "      <th>Total Energy Production</th>\n",
       "      <th>Total local Transfer</th>\n",
       "      <th>Total grid Transfer</th>\n",
       "      <th>Number of producers</th>\n",
       "      <th>Total Cost</th>\n",
       "    </tr>\n",
       "  </thead>\n",
       "  <tbody>\n",
       "    <tr>\n",
       "      <th>0</th>\n",
       "      <td>334862528961352536050199119122908963670</td>\n",
       "      <td>[10.0, 0, 0.03147573449894914, 0, 10.0, 10.0, ...</td>\n",
       "      <td>[0, 0, 0, 0, 0, 0, 0, 0, 0, 0, 0, 0, 0, 0, 0, ...</td>\n",
       "      <td>2253.828029</td>\n",
       "      <td>16094.964636</td>\n",
       "      <td>944.576192</td>\n",
       "      <td>6547.159962</td>\n",
       "      <td>203</td>\n",
       "      <td>-81916.455865</td>\n",
       "    </tr>\n",
       "  </tbody>\n",
       "</table>\n",
       "</div>"
      ],
      "text/plain": [
       "                                      seed  \\\n",
       "0  334862528961352536050199119122908963670   \n",
       "\n",
       "                 Per household local energy transfer  \\\n",
       "0  [10.0, 0, 0.03147573449894914, 0, 10.0, 10.0, ...   \n",
       "\n",
       "                  Per household grid energy transfer  Peak energy production  \\\n",
       "0  [0, 0, 0, 0, 0, 0, 0, 0, 0, 0, 0, 0, 0, 0, 0, ...             2253.828029   \n",
       "\n",
       "   Total Energy Production  Total local Transfer  Total grid Transfer  \\\n",
       "0             16094.964636            944.576192          6547.159962   \n",
       "\n",
       "   Number of producers    Total Cost  \n",
       "0                  203 -81916.455865  "
      ]
     },
     "execution_count": 50,
     "metadata": {},
     "output_type": "execute_result"
    }
   ],
   "source": [
    "parameters = {\"population\": POP_SIZE, \"steps\": NUM_STEPS, \"grid_size\": (GRID_SIZE, GRID_SIZE), \"agent_type\": \"qlearning\", \"sunny_prob\" : SUNNY_PROB, \"percent_producers\": PERCENT_PRODUCERS}\n",
    "\n",
    "model = EnergyShedModel(parameters)\n",
    "results = model.run()\n",
    "results.reporters\n",
    "# results.variables.EnergyShedModel"
   ]
  },
  {
   "cell_type": "markdown",
   "id": "b2c0710b",
   "metadata": {},
   "source": [
    "### Visualization"
   ]
  },
  {
   "cell_type": "code",
   "execution_count": null,
   "id": "7d3bad69",
   "metadata": {},
   "outputs": [],
   "source": [
    "fig, ax = plt.subplots()\n",
    "status_stackplot(results.variables.EnergyShedModel, ax)"
   ]
  },
  {
   "cell_type": "code",
   "execution_count": 51,
   "id": "63c891ef",
   "metadata": {},
   "outputs": [
    {
     "data": {
      "text/plain": [
       "Text(0.5, 0.98, 'Q-Learning Model')"
      ]
     },
     "execution_count": 51,
     "metadata": {},
     "output_type": "execute_result"
    },
    {
     "data": {
      "image/png": "[encoded data removed]",
      "text/plain": [
       "<Figure size 1000x600 with 2 Axes>"
      ]
     },
     "metadata": {},
     "output_type": "display_data"
    }
   ],
   "source": [
    "fig, (ax1, ax2) = plt.subplots(nrows=1, ncols=2, figsize=(10, 6))\n",
    "cost_lineplot(results.variables.EnergyShedModel, ax=ax1)\n",
    "# transfer_lineplot(results.variables.EnergyShedModel, ax=ax1)\n",
    "reward_lineplot(results.variables.EnergyShedModel, ax=ax2)\n",
    "fig.suptitle(\"Q-Learning Model\")"
   ]
  },
  {
   "cell_type": "code",
   "execution_count": null,
   "id": "328cc2a1",
   "metadata": {},
   "outputs": [],
   "source": [
    "fig, ax = plt.subplots()\n",
    "model = EnergyShedModel(parameters)\n",
    "animation = ap.animate(model, fig, ax, animation_plot)\n",
    "IPython.display.HTML(animation.to_jshtml())"
   ]
  },
  {
   "cell_type": "code",
   "execution_count": null,
   "id": "974f39af",
   "metadata": {},
   "outputs": [],
   "source": [
    "fig = plt.figure()\n",
    "plt.subplots_adjust(left=0.4, right=0.9, bottom=0.1, top=0.9)\n",
    "q_values = results.variables.EnergyShedModel[\"q_values\"]\n",
    "anim = FuncAnimation(fig, q_values_plot, fargs=(q_values,), frames=range(len(q_values)), interval=500)\n",
    "IPython.display.HTML(anim.to_jshtml())"
   ]
  },
  {
   "attachments": {},
   "cell_type": "markdown",
   "id": "a28c54f0",
   "metadata": {},
   "source": [
    "# Experiments"
   ]
  },
  {
   "cell_type": "code",
   "execution_count": 57,
   "id": "937e8c3c",
   "metadata": {},
   "outputs": [
    {
     "name": "stdout",
     "output_type": "stream",
     "text": [
      "Completed: 7 steps\n",
      "Run time: 0:00:00.031389\n",
      "Simulation finished\n",
      "Completed: 7 steps\n",
      "Run time: 0:00:00.025174\n",
      "Simulation finished\n",
      "Completed: 7 steps\n",
      "Run time: 0:00:00.024712\n",
      "Simulation finished\n",
      "Completed: 7 steps\n",
      "Run time: 0:00:00.024882\n",
      "Simulation finished\n",
      "Completed: 7 steps\n",
      "Run time: 0:00:00.024298\n",
      "Simulation finished\n",
      "Completed: 7 steps\n",
      "Run time: 0:00:00.024276\n",
      "Simulation finished\n",
      "Completed: 7 steps\n",
      "Run time: 0:00:00.024558\n",
      "Simulation finished\n",
      "Completed: 7 steps\n",
      "Run time: 0:00:00.024518\n",
      "Simulation finished\n",
      "Completed: 7 steps\n",
      "Run time: 0:00:00.025692\n",
      "Simulation finished\n",
      "Completed: 7 steps\n",
      "Run time: 0:00:00.035753\n",
      "Simulation finished\n",
      "Completed: 7 steps\n",
      "Run time: 0:00:00.029943\n",
      "Simulation finished\n",
      "Completed: 7 steps\n",
      "Run time: 0:00:00.030513\n",
      "Simulation finished\n",
      "Completed: 7 steps\n",
      "Run time: 0:00:00.024754\n",
      "Simulation finished\n",
      "Completed: 7 steps\n",
      "Run time: 0:00:00.024417\n",
      "Simulation finished\n",
      "Completed: 7 steps\n",
      "Run time: 0:00:00.024471\n",
      "Simulation finished\n",
      "Completed: 7 steps\n",
      "Run time: 0:00:00.025052\n",
      "Simulation finished\n",
      "Completed: 7 steps\n",
      "Run time: 0:00:00.024944\n",
      "Simulation finished\n",
      "Completed: 7 steps\n",
      "Run time: 0:00:00.024479\n",
      "Simulation finished\n",
      "Completed: 7 steps\n",
      "Run time: 0:00:00.024662\n",
      "Simulation finished\n",
      "Completed: 7 steps\n",
      "Run time: 0:00:00.024506\n",
      "Simulation finished\n",
      "Completed: 7 steps\n",
      "Run time: 0:00:00.023925\n",
      "Simulation finished\n",
      "Completed: 7 steps\n",
      "Run time: 0:00:00.238175\n",
      "Simulation finished\n",
      "Completed: 7 steps\n",
      "Run time: 0:00:00.025262\n",
      "Simulation finished\n",
      "Completed: 7 steps\n",
      "Run time: 0:00:00.025268\n",
      "Simulation finished\n",
      "Completed: 7 steps\n",
      "Run time: 0:00:00.025417\n",
      "Simulation finished\n",
      "Completed: 7 steps\n",
      "Run time: 0:00:04.280200\n",
      "Simulation finished\n",
      "Completed: 7 steps\n",
      "Run time: 0:00:03.806734\n",
      "Simulation finished\n",
      "Completed: 7 steps\n",
      "Run time: 0:00:03.784739\n",
      "Simulation finished\n",
      "Completed: 7 steps\n",
      "Run time: 0:00:04.071028\n",
      "Simulation finished\n",
      "Completed: 7 steps\n",
      "Run time: 0:00:04.089950\n",
      "Simulation finished\n",
      "Completed: 7 steps\n",
      "Run time: 0:00:03.743737\n",
      "Simulation finished\n",
      "Completed: 7 steps\n",
      "Run time: 0:00:04.461956\n",
      "Simulation finished\n",
      "Completed: 7 steps\n",
      "Run time: 0:00:04.248097\n",
      "Simulation finished\n",
      "Completed: 7 steps\n",
      "Run time: 0:00:04.664224\n",
      "Simulation finished\n",
      "Completed: 7 steps\n",
      "Run time: 0:00:05.632119\n",
      "Simulation finished\n",
      "Completed: 7 steps\n",
      "Run time: 0:00:04.690255\n",
      "Simulation finished\n",
      "Completed: 7 steps\n",
      "Run time: 0:00:05.217347\n",
      "Simulation finished\n",
      "Completed: 7 steps\n",
      "Run time: 0:00:04.694719\n",
      "Simulation finished\n",
      "Completed: 7 steps\n",
      "Run time: 0:00:04.785416\n",
      "Simulation finished\n",
      "Completed: 7 steps\n",
      "Run time: 0:00:04.462751\n",
      "Simulation finished\n",
      "Completed: 7 steps\n",
      "Run time: 0:00:05.165798\n",
      "Simulation finished\n",
      "Completed: 7 steps\n",
      "Run time: 0:00:04.955481\n",
      "Simulation finished\n",
      "Completed: 7 steps\n",
      "Run time: 0:00:04.771596\n",
      "Simulation finished\n",
      "Completed: 7 steps\n",
      "Run time: 0:00:04.827644\n",
      "Simulation finished\n",
      "Completed: 7 steps\n",
      "Run time: 0:00:04.695806\n",
      "Simulation finished\n",
      "Completed: 7 steps\n",
      "Run time: 0:00:05.052881\n",
      "Simulation finished\n",
      "Completed: 7 steps\n",
      "Run time: 0:00:04.885478\n",
      "Simulation finished\n",
      "Completed: 7 steps\n",
      "Run time: 0:00:04.765582\n",
      "Simulation finished\n",
      "Completed: 7 steps\n",
      "Run time: 0:00:05.018289\n",
      "Simulation finished\n",
      "Completed: 7 steps\n",
      "Run time: 0:00:04.486619\n",
      "Simulation finished\n",
      "Completed: 7 steps\n",
      "Run time: 0:00:03.630623\n",
      "Simulation finished\n",
      "Completed: 7 steps\n",
      "Run time: 0:00:03.947812\n",
      "Simulation finished\n",
      "Completed: 7 steps\n",
      "Run time: 0:00:04.247568\n",
      "Simulation finished\n",
      "Completed: 7 steps\n",
      "Run time: 0:00:03.628189\n",
      "Simulation finished\n",
      "Completed: 7 steps\n",
      "Run time: 0:00:04.370797\n",
      "Simulation finished\n",
      "Completed: 7 steps\n",
      "Run time: 0:00:03.383780\n",
      "Simulation finished\n",
      "Completed: 7 steps\n",
      "Run time: 0:00:03.684852\n",
      "Simulation finished\n",
      "Completed: 7 steps\n",
      "Run time: 0:00:04.927459\n",
      "Simulation finished\n",
      "Completed: 7 steps\n",
      "Run time: 0:17:22.313885\n",
      "Simulation finished\n",
      "Completed: 7 steps\n",
      "Run time: 0:00:03.828820\n",
      "Simulation finished\n",
      "Completed: 7 steps\n",
      "Run time: 0:17:09.093637\n",
      "Simulation finished\n",
      "Completed: 7 steps\n",
      "Run time: 0:15:41.744129\n",
      "Simulation finished\n",
      "Completed: 7 steps\n",
      "Run time: 0:00:03.639727\n",
      "Simulation finished\n",
      "Completed: 7 steps\n",
      "Run time: 0:16:15.423832\n",
      "Simulation finished\n",
      "Completed: 7 steps\n",
      "Run time: 0:00:04.359942\n",
      "Simulation finished\n",
      "Completed: 7 steps\n",
      "Run time: 0:15:19.282147\n",
      "Simulation finished\n",
      "Completed: 7 steps\n",
      "Run time: 0:00:03.693034\n",
      "Simulation finished\n",
      "Completed: 7 steps\n",
      "Run time: 0:17:49.352204\n",
      "Simulation finished\n",
      "Completed: 7 steps\n",
      "Run time: 0:00:03.271078\n",
      "Simulation finished\n",
      "Completed: 7 steps\n",
      "Run time: 0:17:26.986489\n",
      "Simulation finished\n",
      "Completed: 7 steps\n",
      "Run time: 0:17:17.538726\n",
      "Simulation finished\n",
      "Completed: 7 steps\n",
      "Run time: 0:00:03.989447\n",
      "Simulation finished\n",
      "Completed: 7 steps\n",
      "Run time: 0:00:03.875189\n",
      "Simulation finished\n",
      "Completed: 7 steps\n",
      "Run time: 0:00:04.013137\n",
      "Simulation finished\n",
      "Completed: 7 steps\n",
      "Run time: 0:00:03.796858\n",
      "Simulation finished\n",
      "Completed: 7 steps\n",
      "Run time: 0:00:02.892789\n",
      "Simulation finished\n",
      "Completed: 7 steps\n",
      "Run time: 0:03:40.211666\n",
      "Simulation finished\n",
      "Completed: 7 steps\n",
      "Run time: 0:00:02.883424\n",
      "Simulation finished\n",
      "Completed: 7 steps\n",
      "Run time: 0:00:02.645856\n",
      "Simulation finished\n",
      "Completed: 7 steps\n",
      "Run time: 0:00:02.874674\n",
      "Simulation finished\n",
      "Completed: 7 steps\n",
      "Run time: 0:00:02.744844\n",
      "Simulation finished\n",
      "Completed: 7 steps\n",
      "Run time: 0:00:02.498766\n",
      "Simulation finished\n",
      "Completed: 7 steps\n",
      "Run time: 0:00:02.852070\n",
      "Simulation finished\n",
      "Completed: 7 steps\n",
      "Run time: 0:00:02.816205\n",
      "Simulation finished\n",
      "Completed: 7 steps\n",
      "Run time: 0:00:05.402967\n",
      "Simulation finished\n",
      "Completed: 7 steps\n",
      "Run time: 0:00:02.720081\n",
      "Simulation finished\n",
      "Completed: 7 steps\n",
      "Run time: 0:00:02.528657\n",
      "Simulation finished\n",
      "Completed: 7 steps\n",
      "Run time: 0:00:03.011072\n",
      "Simulation finished\n",
      "Completed: 7 steps\n",
      "Run time: 0:00:02.803217\n",
      "Simulation finished\n",
      "Completed: 7 steps\n",
      "Run time: 0:00:02.935389\n",
      "Simulation finished\n",
      "Completed: 7 steps\n",
      "Run time: 0:00:02.884535\n",
      "Simulation finished\n",
      "Completed: 7 steps\n",
      "Run time: 0:00:02.952774\n",
      "Simulation finished\n",
      "Completed: 7 steps\n",
      "Run time: 0:06:38.049240\n",
      "Simulation finished\n",
      "Completed: 7 steps\n",
      "Run time: 0:00:03.570588\n",
      "Simulation finished\n",
      "Completed: 7 steps\n",
      "Run time: 0:00:02.291448\n",
      "Simulation finished\n",
      "Completed: 7 steps\n",
      "Run time: 0:00:02.264796\n",
      "Simulation finished\n",
      "Completed: 7 steps\n",
      "Run time: 0:00:02.274642\n",
      "Simulation finished\n",
      "Completed: 7 steps\n",
      "Run time: 0:00:02.222523\n",
      "Simulation finished\n",
      "Completed: 7 steps\n",
      "Run time: 0:00:02.090478\n",
      "Simulation finished\n",
      "Completed: 7 steps\n",
      "Run time: 0:00:02.309181\n",
      "Simulation finished\n"
     ]
    }
   ],
   "source": [
    "avg_daily_costs = {\"grid\": [], \"reflex_sell\": [], \"reflex_store\": [], \"qlearning\": []}\n",
    "\n",
    "for agent_type in [\"grid\", \"reflex_sell\", \"reflex_store\", \"qlearning\"]:\n",
    "    parameters = {\"population\": POP_SIZE, \"steps\": NUM_STEPS, \"grid_size\": (GRID_SIZE, GRID_SIZE), \"agent_type\": agent_type, \"sunny_prob\" : SUNNY_PROB, \"percent_producers\": PERCENT_PRODUCERS}\n",
    "    for i in range(25):\n",
    "        model = EnergyShedModel(parameters)\n",
    "        results = model.run()\n",
    "        avg_daily_cost = sum(results.variables.EnergyShedModel[\"daily_cost\"]) / len(results.variables.EnergyShedModel[\"daily_cost\"])\n",
    "        avg_daily_costs[agent_type].append(avg_daily_cost)"
   ]
  },
  {
   "cell_type": "code",
   "execution_count": 60,
   "id": "c0f9851f",
   "metadata": {},
   "outputs": [
    {
     "name": "stdout",
     "output_type": "stream",
     "text": [
      "grid: [-50.26984229918354, -52.55530167752673, -45.275019815229804, -49.34651474384404, -45.86330774053556, -50.68937500188643, -45.747808944116414, -46.022756565033134, -52.96692748374507, -48.662253112281356, -50.00883937426827, -48.87058507299441, -48.124760135844525, -43.31570786576435, -48.37408334378456, -46.995138112079765, -48.232639866182396, -51.7779514607872, -41.3141713357504, -47.37931926363506, -51.910177442538654, -49.320369645839115, -43.44950687742818, -43.97320088309726, -45.02216142735743]\n",
      "reflex_sell: [-47.9937762352077, -43.623399639804795, -44.56525628037153, -44.79859902648669, -45.78089625406252, -41.37902575033148, -45.97877587220615, -37.335277670872394, -42.779555867517814, -49.84531573114081, -38.27664339388007, -49.157471796262215, -41.50307482760103, -41.74958142389225, -35.34655947092653, -46.08782677365772, -43.890839451224394, -40.35919917538284, -43.660283476744944, -39.8929765708028, -45.5679200902148, -42.61561934411537, -43.5971400007834, -43.07975240212056, -41.01822538446122]\n",
      "reflex_store: [-44.55101802538566, -45.43131282659766, -48.04199517290701, -44.210623650472286, -50.392549995227135, -43.41477910469794, -43.60411663992057, -51.93604118927037, -46.18299590740909, -45.91895233229806, -49.17762490893782, -47.829610183783004, -41.91214514980561, -41.49056556443587, -46.628556257221305, -48.48743677382005, -42.65305124458588, -46.695133615164295, -42.743134065537184, -45.30875109294919, -46.76094668852956, -44.94851422158382, -46.481413713309514, -47.91651456646084, -45.37259644582212]\n",
      "qlearning: [-24.059954789192044, -22.944070626306583, -24.22065126989428, -19.622620056731563, -22.48458871286172, -21.00408344271027, -18.292701028162373, -22.500628711928467, -24.001934005321395, -21.252069129612703, -21.53721391121841, -20.020587979050774, -23.838027915112036, -21.234879454172873, -22.67963811626619, -22.78920482594033, -22.242774799733915, -17.466102797712544, -19.269759017618355, -23.657171377214762, -23.27759279408726, -22.22928565079339, -23.87671659175128, -18.968705074070993, -23.36920918645191]\n",
      "grid: -47.81870877962934\n",
      "reflex_sell: -43.195319676402875\n",
      "reflex_store: -45.92361517344528\n",
      "qlearning: -21.87360685055666\n"
     ]
    }
   ],
   "source": [
    "for agent_type in [\"grid\", \"reflex_sell\", \"reflex_store\", \"qlearning\"]:\n",
    "    print(f\"{agent_type}: {avg_daily_costs[agent_type]}\")\n",
    "\n",
    "for agent_type in [\"grid\", \"reflex_sell\", \"reflex_store\", \"qlearning\"]:\n",
    "    print(f\"{agent_type}: {np.mean(avg_daily_costs[agent_type])}\")"
   ]
  },
  {
   "cell_type": "code",
   "execution_count": 59,
   "id": "6c02fa0e",
   "metadata": {},
   "outputs": [
    {
     "data": {
      "image/png": "[encoded data removed]",
      "text/plain": [
       "<Figure size 640x480 with 1 Axes>"
      ]
     },
     "metadata": {},
     "output_type": "display_data"
    }
   ],
   "source": [
    "avg_daily_costs_mean = {k: np.mean(v) for k, v in avg_daily_costs.items()}\n",
    "avg_daily_costs_std = {k: np.std(v) for k, v in avg_daily_costs.items()}\n",
    "\n",
    "plt.bar(avg_daily_costs_mean.keys(), avg_daily_costs_mean.values(), yerr=avg_daily_costs_std.values(), capsize=5)\n",
    "plt.title(\"Average Daily Cost\")\n",
    "plt.ylabel(\"Cost\")\n",
    "plt.show()\n"
   ]
  }
 ],
 "metadata": {
  "kernelspec": {
   "display_name": ".venv",
   "language": "python",
   "name": "python3"
  },
  "language_info": {
   "codemirror_mode": {
    "name": "ipython",
    "version": 3
   },
   "file_extension": ".py",
   "mimetype": "text/x-python",
   "name": "python",
   "nbconvert_exporter": "python",
   "pygments_lexer": "ipython3",
   "version": "3.10.6"
  },
  "vscode": {
   "interpreter": {
    "hash": "f74bb417f30a911f0cd6de54d99e06abb97ce3632e7174c2b5ad92bcb9ee3658"
   }
  }
 },
 "nbformat": 4,
 "nbformat_minor": 5
}
