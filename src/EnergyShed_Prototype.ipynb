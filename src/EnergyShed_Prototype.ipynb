{
 "cells": [
  {
   "cell_type": "code",
   "execution_count": null,
   "id": "3c819031-81bb-4b42-9131-b01a5bc3ec2b",
   "metadata": {
    "pycharm": {
     "is_executing": true
    }
   },
   "outputs": [],
   "source": [
    "%load_ext autoreload\n",
    "%autoreload 2\n",
    "\n",
    "# Model design\n",
    "import agentpy as ap\n",
    "import random\n",
    "\n",
    "# Visualization\n",
    "import matplotlib.pyplot as plt\n",
    "import seaborn as sns\n",
    "import IPython\n",
    "\n",
    "from EnergyShedModel import EnergyShedModel\n",
    "from plots import status_stackplot, cost_lineplot, transfer_lineplot, animation_plot\n",
    "\n",
    "random.seed(1)\n",
    "\n",
    "POP_SIZE = 100\n",
    "NUM_NEIGHBORS = 6\n",
    "NUM_STEPS = 25\n",
    "GRID_SIZE = 10"
   ]
  },
  {
   "attachments": {},
   "cell_type": "markdown",
   "id": "dc7cd459",
   "metadata": {},
   "source": [
    "# Grid agent"
   ]
  },
  {
   "cell_type": "code",
   "execution_count": null,
   "id": "7f4c60ed-0648-4c5d-b6a2-279ab0588f57",
   "metadata": {},
   "outputs": [],
   "source": [
    "parameters = {\"population\": POP_SIZE, \"steps\": NUM_STEPS, \"grid_size\": (GRID_SIZE, GRID_SIZE), \"agent_type\": \"grid\"}\n",
    "\n",
    "model = EnergyShedModel(parameters)\n",
    "results = model.run()"
   ]
  },
  {
   "cell_type": "code",
   "execution_count": null,
   "id": "0390a7a3",
   "metadata": {},
   "outputs": [],
   "source": [
    "results.reporters"
   ]
  },
  {
   "cell_type": "code",
   "execution_count": null,
   "id": "e0347aa2",
   "metadata": {},
   "outputs": [],
   "source": [
    "fig, ax = plt.subplots()\n",
    "status_stackplot(results.variables.EnergyShedModel, ax)"
   ]
  },
  {
   "cell_type": "code",
   "execution_count": null,
   "id": "8d1edd82",
   "metadata": {},
   "outputs": [],
   "source": [
    "fig, (ax1, ax2) = plt.subplots(nrows=1, ncols=2, figsize=(10, 5))\n",
    "cost_lineplot(results.variables.EnergyShedModel, ax=ax1)\n",
    "transfer_lineplot(results.variables.EnergyShedModel, ax=ax2)\n",
    "fig.suptitle(\"Grid Model\")"
   ]
  },
  {
   "cell_type": "code",
   "execution_count": null,
   "id": "b91999c0",
   "metadata": {},
   "outputs": [],
   "source": [
    "fig, ax = plt.subplots()\n",
    "model = EnergyShedModel(parameters)\n",
    "animation = ap.animate(model, fig, ax, animation_plot)\n",
    "IPython.display.HTML(animation.to_jshtml())"
   ]
  },
  {
   "attachments": {},
   "cell_type": "markdown",
   "id": "868761f9",
   "metadata": {},
   "source": [
    "# Reflex agents"
   ]
  },
  {
   "cell_type": "code",
   "execution_count": null,
   "id": "dd7144b5",
   "metadata": {},
   "outputs": [],
   "source": [
    "parameters = {\"population\": POP_SIZE, \"steps\": NUM_STEPS, \"grid_size\": (GRID_SIZE, GRID_SIZE), \"agent_type\": \"reflex\"}\n",
    "\n",
    "model = EnergyShedModel(parameters)\n",
    "results = model.run()"
   ]
  },
  {
   "cell_type": "code",
   "execution_count": null,
   "id": "3b580c17",
   "metadata": {},
   "outputs": [],
   "source": [
    "results.reporters"
   ]
  },
  {
   "cell_type": "code",
   "execution_count": null,
   "id": "833d7383",
   "metadata": {},
   "outputs": [],
   "source": [
    "fig, (ax1, ax2) = plt.subplots(nrows=1, ncols=2, figsize=(10, 5))\n",
    "cost_lineplot(results.variables.EnergyShedModel, ax=ax1)\n",
    "transfer_lineplot(results.variables.EnergyShedModel, ax=ax2)\n",
    "fig.suptitle(\"Reflex Model\")"
   ]
  },
  {
   "cell_type": "code",
   "execution_count": null,
   "id": "2126b788",
   "metadata": {},
   "outputs": [],
   "source": [
    "fig, ax = plt.subplots()\n",
    "model = EnergyShedModel(parameters)\n",
    "animation = ap.animate(model, fig, ax, animation_plot)\n",
    "IPython.display.HTML(animation.to_jshtml())"
   ]
  },
  {
   "attachments": {},
   "cell_type": "markdown",
   "id": "c3ccd62e",
   "metadata": {},
   "source": [
    "# MDP Agents"
   ]
  },
  {
   "cell_type": "code",
   "execution_count": null,
   "id": "53257eec",
   "metadata": {},
   "outputs": [],
   "source": [
    "parameters = {\"population\": POP_SIZE, \"steps\": NUM_STEPS, \"grid_size\": (GRID_SIZE, GRID_SIZE), \"agent_type\": \"mdp\"}\n",
    "\n",
    "model = EnergyShedModel(parameters)\n",
    "results = model.run()"
   ]
  },
  {
   "attachments": {},
   "cell_type": "markdown",
   "id": "0429e40f",
   "metadata": {},
   "source": [
    "# Experiments"
   ]
  },
  {
   "cell_type": "code",
   "execution_count": null,
   "id": "95fc6040-ff52-42a9-821f-d53334b66987",
   "metadata": {},
   "outputs": [],
   "source": [
    "parameters = {\n",
    "    \"population\": ap.IntRange(100, 1000),\n",
    "    \"number_of_neighbors\": 4,\n",
    "    \"network_randomness\": ap.Range(0.0, 1.0),\n",
    "}\n",
    "\n",
    "sample = ap.Sample(parameters, n=128, method=\"saltelli\", calc_second_order=False)"
   ]
  },
  {
   "cell_type": "code",
   "execution_count": null,
   "id": "3bf64015-dc8f-4120-9cfc-80cfc6640272",
   "metadata": {},
   "outputs": [],
   "source": [
    "exp = ap.Experiment(EnergyShedModel, sample, iterations=10)\n",
    "results = exp.run()"
   ]
  },
  {
   "cell_type": "code",
   "execution_count": null,
   "id": "41313d51-70f3-4af2-a193-24d21e8054ef",
   "metadata": {},
   "outputs": [],
   "source": [
    "results.save()"
   ]
  },
  {
   "cell_type": "code",
   "execution_count": null,
   "id": "3f10464f-9bd9-4617-b07e-bbcf34fe823c",
   "metadata": {},
   "outputs": [],
   "source": [
    "results"
   ]
  },
  {
   "cell_type": "code",
   "execution_count": null,
   "id": "9da36c4b-9f89-4370-a89a-b304137fbfc9",
   "metadata": {},
   "outputs": [],
   "source": [
    "results.reporters.hist();"
   ]
  },
  {
   "cell_type": "code",
   "execution_count": null,
   "id": "b08619ce-337e-497f-a0dd-e056f1fc5fb0",
   "metadata": {},
   "outputs": [],
   "source": [
    "# Sensitivity Analysis"
   ]
  },
  {
   "cell_type": "code",
   "execution_count": null,
   "id": "828f41be-541e-46ba-9db9-f3d0a6f181ca",
   "metadata": {},
   "outputs": [],
   "source": [
    "results.calc_sobol()"
   ]
  },
  {
   "cell_type": "code",
   "execution_count": null,
   "id": "f1d9db1b-dc80-4b27-8a5e-d00359e6769d",
   "metadata": {},
   "outputs": [],
   "source": [
    "def plot_sobol(results):\n",
    "    \"\"\"Bar plot of Sobol sensitivity indices.\"\"\"\n",
    "\n",
    "    sns.set()\n",
    "    fig, axs = plt.subplots(1, 2, figsize=(8, 4))\n",
    "    si_list = results.sensitivity.sobol.groupby(by=\"reporter\")\n",
    "    si_conf_list = results.sensitivity.sobol_conf.groupby(by=\"reporter\")\n",
    "\n",
    "    for (key, si), (_, err), ax in zip(si_list, si_conf_list, axs):\n",
    "        si = si.droplevel(\"reporter\")\n",
    "        err = err.droplevel(\"reporter\")\n",
    "        si.plot.barh(xerr=err, title=key, ax=ax, capsize=3)\n",
    "        ax.set_xlim(0)\n",
    "\n",
    "    axs[0].get_legend().remove()\n",
    "    axs[1].set(ylabel=None, yticklabels=[])\n",
    "    axs[1].tick_params(left=False)\n",
    "    plt.tight_layout()\n",
    "\n",
    "\n",
    "plot_sobol(results)"
   ]
  },
  {
   "cell_type": "code",
   "execution_count": null,
   "id": "58f2970f-5afd-450b-80c7-3a52ef03f8bc",
   "metadata": {},
   "outputs": [],
   "source": [
    "def plot_sensitivity(results):\n",
    "    \"\"\"Show average simulation results for different parameter values.\"\"\"\n",
    "\n",
    "    sns.set()\n",
    "    fig, axs = plt.subplots(2, 2, figsize=(8, 8))\n",
    "    axs = [i for j in axs for i in j]  # Flatten list\n",
    "\n",
    "    data = results.arrange_reporters().astype(\"float\")\n",
    "    params = results.parameters.sample.keys()\n",
    "\n",
    "    for x, ax in zip(params, axs):\n",
    "        for y in results.reporters.columns:\n",
    "            sns.regplot(x=x, y=y, data=data, ax=ax, ci=99, x_bins=15, fit_reg=False, label=y)\n",
    "        ax.set_ylim(0, 1)\n",
    "        ax.set_ylabel(\"\")\n",
    "        ax.legend()\n",
    "\n",
    "    plt.tight_layout()\n",
    "\n",
    "\n",
    "plot_sensitivity(results)"
   ]
  }
 ],
 "metadata": {
  "kernelspec": {
   "display_name": ".venv",
   "language": "python",
   "name": "python3"
  },
  "language_info": {
   "codemirror_mode": {
    "name": "ipython",
    "version": 3
   },
   "file_extension": ".py",
   "mimetype": "text/x-python",
   "name": "python",
   "nbconvert_exporter": "python",
   "pygments_lexer": "ipython3",
   "version": "3.10.6"
  },
  "vscode": {
   "interpreter": {
    "hash": "f74bb417f30a911f0cd6de54d99e06abb97ce3632e7174c2b5ad92bcb9ee3658"
   }
  }
 },
 "nbformat": 4,
 "nbformat_minor": 5
}
