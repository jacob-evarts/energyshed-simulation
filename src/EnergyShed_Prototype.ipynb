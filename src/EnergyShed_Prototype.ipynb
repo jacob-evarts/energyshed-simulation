{
 "cells": [
  {
   "attachments": {},
   "cell_type": "markdown",
   "id": "3a9e6f77",
   "metadata": {},
   "source": [
    "# Installs"
   ]
  },
  {
   "cell_type": "code",
   "execution_count": null,
   "id": "156a2441",
   "metadata": {},
   "outputs": [],
   "source": [
    "!pip install agentpy"
   ]
  },
  {
   "attachments": {},
   "cell_type": "markdown",
   "id": "92487551",
   "metadata": {},
   "source": [
    "# Imports"
   ]
  },
  {
   "cell_type": "code",
   "execution_count": null,
   "id": "3c819031-81bb-4b42-9131-b01a5bc3ec2b",
   "metadata": {
    "pycharm": {
     "is_executing": true
    }
   },
   "outputs": [],
   "source": [
    "%load_ext autoreload\n",
    "%autoreload 2\n",
    "\n",
    "# Model design\n",
    "import agentpy as ap\n",
    "import random\n",
    "\n",
    "# Visualization\n",
    "import matplotlib.pyplot as plt\n",
    "from matplotlib.animation import FuncAnimation\n",
    "import matplotlib.colors as colors\n",
    "import seaborn as sns\n",
    "import IPython\n",
    "import numpy as np\n",
    "\n",
    "from EnergyShedModel import EnergyShedModel\n",
    "from plots import status_stackplot, cost_lineplot, transfer_lineplot, reward_lineplot, animation_plot, q_values_plot\n",
    "\n",
    "random.seed(42)"
   ]
  },
  {
   "attachments": {},
   "cell_type": "markdown",
   "id": "f8bcab3f",
   "metadata": {},
   "source": [
    "# Model parameters"
   ]
  },
  {
   "cell_type": "code",
   "execution_count": null,
   "id": "6546695a",
   "metadata": {},
   "outputs": [],
   "source": [
    "NUM_STEPS = 20\n",
    "\n",
    "GRID_SIZE = 6\n",
    "POP_SIZE = GRID_SIZE * GRID_SIZE\n",
    "\n",
    "SUNNY_PROB = 0.5\n",
    "PERCENT_PRODUCERS = 0.5"
   ]
  },
  {
   "attachments": {},
   "cell_type": "markdown",
   "id": "dc7cd459",
   "metadata": {},
   "source": [
    "# Grid agent"
   ]
  },
  {
   "cell_type": "code",
   "execution_count": null,
   "id": "7f4c60ed-0648-4c5d-b6a2-279ab0588f57",
   "metadata": {},
   "outputs": [],
   "source": [
    "parameters = {\"population\": POP_SIZE, \"steps\": NUM_STEPS, \"grid_size\": (GRID_SIZE, GRID_SIZE), \"agent_type\": \"grid\", \"sunny_prob\" : SUNNY_PROB, \"percent_producers\": PERCENT_PRODUCERS}\n",
    "\n",
    "model = EnergyShedModel(parameters)\n",
    "results = model.run()\n",
    "\n",
    "results.reporters\n",
    "# results.variables.EnergyShedModel"
   ]
  },
  {
   "attachments": {},
   "cell_type": "markdown",
   "id": "0bfc8f0f",
   "metadata": {},
   "source": [
    "### Visualization"
   ]
  },
  {
   "cell_type": "code",
   "execution_count": null,
   "id": "e0347aa2",
   "metadata": {},
   "outputs": [],
   "source": [
    "fig, ax = plt.subplots()\n",
    "status_stackplot(results.variables.EnergyShedModel, ax)"
   ]
  },
  {
   "cell_type": "code",
   "execution_count": null,
   "id": "8d1edd82",
   "metadata": {},
   "outputs": [],
   "source": [
    "fig, (ax1, ax2) = plt.subplots(nrows=1, ncols=2, figsize=(10, 5))\n",
    "cost_lineplot(results.variables.EnergyShedModel, ax=ax1)\n",
    "transfer_lineplot(results.variables.EnergyShedModel, ax=ax2)\n",
    "fig.suptitle(\"Grid Model Results\")"
   ]
  },
  {
   "cell_type": "code",
   "execution_count": null,
   "id": "b91999c0",
   "metadata": {},
   "outputs": [],
   "source": [
    "fig, ax = plt.subplots()\n",
    "model = EnergyShedModel(parameters)\n",
    "animation = ap.animate(model, fig, ax, animation_plot)\n",
    "IPython.display.HTML(animation.to_jshtml())"
   ]
  },
  {
   "attachments": {},
   "cell_type": "markdown",
   "id": "868761f9",
   "metadata": {},
   "source": [
    "# Reflex agents"
   ]
  },
  {
   "attachments": {},
   "cell_type": "markdown",
   "id": "db453235",
   "metadata": {},
   "source": [
    "## Selling agent"
   ]
  },
  {
   "cell_type": "code",
   "execution_count": null,
   "id": "dd7144b5",
   "metadata": {},
   "outputs": [],
   "source": [
    "parameters = {\"population\": POP_SIZE, \"steps\": NUM_STEPS, \"grid_size\": (GRID_SIZE, GRID_SIZE), \"agent_type\": \"reflex_sell\", \"sunny_prob\" : SUNNY_PROB, \"percent_producers\": PERCENT_PRODUCERS}\n",
    "\n",
    "model = EnergyShedModel(parameters)\n",
    "results = model.run()\n",
    "results.reporters"
   ]
  },
  {
   "attachments": {},
   "cell_type": "markdown",
   "id": "bbd344d6",
   "metadata": {},
   "source": [
    "### Visualization"
   ]
  },
  {
   "cell_type": "code",
   "execution_count": null,
   "id": "ec000b42",
   "metadata": {},
   "outputs": [],
   "source": [
    "fig, ax = plt.subplots()\n",
    "status_stackplot(results.variables.EnergyShedModel, ax)"
   ]
  },
  {
   "cell_type": "code",
   "execution_count": null,
   "id": "833d7383",
   "metadata": {},
   "outputs": [],
   "source": [
    "fig, (ax1, ax2) = plt.subplots(nrows=1, ncols=2, figsize=(10, 5))\n",
    "cost_lineplot(results.variables.EnergyShedModel, ax=ax1)\n",
    "transfer_lineplot(results.variables.EnergyShedModel, ax=ax2)\n",
    "fig.suptitle(\"Reflex Model\")"
   ]
  },
  {
   "cell_type": "code",
   "execution_count": null,
   "id": "2126b788",
   "metadata": {},
   "outputs": [],
   "source": [
    "fig, ax = plt.subplots()\n",
    "model = EnergyShedModel(parameters)\n",
    "animation = ap.animate(model, fig, ax, animation_plot)\n",
    "IPython.display.HTML(animation.to_jshtml())"
   ]
  },
  {
   "attachments": {},
   "cell_type": "markdown",
   "id": "46e5f4d1",
   "metadata": {},
   "source": [
    "## Storing agent"
   ]
  },
  {
   "cell_type": "code",
   "execution_count": null,
   "id": "f544d1da",
   "metadata": {},
   "outputs": [],
   "source": [
    "parameters = {\"population\": POP_SIZE, \"steps\": NUM_STEPS, \"grid_size\": (GRID_SIZE, GRID_SIZE), \"agent_type\": \"reflex_store\", \"sunny_prob\" : SUNNY_PROB, \"percent_producers\": PERCENT_PRODUCERS}\n",
    "\n",
    "model = EnergyShedModel(parameters)\n",
    "results = model.run()\n",
    "results.reporters"
   ]
  },
  {
   "attachments": {},
   "cell_type": "markdown",
   "id": "e5a79240",
   "metadata": {},
   "source": [
    "### Visualization"
   ]
  },
  {
   "cell_type": "code",
   "execution_count": null,
   "id": "8778c16d",
   "metadata": {},
   "outputs": [],
   "source": [
    "fig, ax = plt.subplots()\n",
    "status_stackplot(results.variables.EnergyShedModel, ax)"
   ]
  },
  {
   "cell_type": "code",
   "execution_count": null,
   "id": "bc234f36",
   "metadata": {},
   "outputs": [],
   "source": [
    "fig, (ax1, ax2) = plt.subplots(nrows=1, ncols=2, figsize=(10, 5))\n",
    "cost_lineplot(results.variables.EnergyShedModel, ax=ax1)\n",
    "transfer_lineplot(results.variables.EnergyShedModel, ax=ax2)\n",
    "fig.suptitle(\"Reflex Model\")"
   ]
  },
  {
   "cell_type": "code",
   "execution_count": null,
   "id": "355aa23b",
   "metadata": {},
   "outputs": [],
   "source": [
    "fig, ax = plt.subplots()\n",
    "model = EnergyShedModel(parameters)\n",
    "animation = ap.animate(model, fig, ax, animation_plot)\n",
    "IPython.display.HTML(animation.to_jshtml())"
   ]
  },
  {
   "attachments": {},
   "cell_type": "markdown",
   "id": "c3ccd62e",
   "metadata": {},
   "source": [
    "# Q-learning agent"
   ]
  },
  {
   "cell_type": "code",
   "execution_count": null,
   "id": "4490d640",
   "metadata": {},
   "outputs": [],
   "source": [
    "parameters = {\"population\": POP_SIZE, \"steps\": NUM_STEPS, \"grid_size\": (GRID_SIZE, GRID_SIZE), \"agent_type\": \"qlearning\", \"sunny_prob\" : SUNNY_PROB, \"percent_producers\": PERCENT_PRODUCERS}\n",
    "\n",
    "model = EnergyShedModel(parameters)\n",
    "results = model.run()\n",
    "results.reporters"
   ]
  },
  {
   "cell_type": "markdown",
   "id": "b2c0710b",
   "metadata": {},
   "source": [
    "### Visualization"
   ]
  },
  {
   "cell_type": "code",
   "execution_count": null,
   "id": "7d3bad69",
   "metadata": {},
   "outputs": [],
   "source": [
    "fig, ax = plt.subplots()\n",
    "status_stackplot(results.variables.EnergyShedModel, ax)"
   ]
  },
  {
   "cell_type": "code",
   "execution_count": null,
   "id": "63c891ef",
   "metadata": {},
   "outputs": [],
   "source": [
    "fig, (ax1, ax2) = plt.subplots(nrows=1, ncols=2, figsize=(10, 6))\n",
    "cost_lineplot(results.variables.EnergyShedModel, ax=ax1)\n",
    "# transfer_lineplot(results.variables.EnergyShedModel, ax=ax1)\n",
    "reward_lineplot(results.variables.EnergyShedModel, ax=ax2)\n",
    "fig.suptitle(\"Q-Learning Model\")"
   ]
  },
  {
   "cell_type": "code",
   "execution_count": null,
   "id": "328cc2a1",
   "metadata": {},
   "outputs": [],
   "source": [
    "fig, ax = plt.subplots()\n",
    "model = EnergyShedModel(parameters)\n",
    "animation = ap.animate(model, fig, ax, animation_plot)\n",
    "IPython.display.HTML(animation.to_jshtml())"
   ]
  },
  {
   "cell_type": "code",
   "execution_count": null,
   "id": "974f39af",
   "metadata": {},
   "outputs": [],
   "source": [
    "fig = plt.figure()\n",
    "plt.subplots_adjust(left=0.4, right=0.9, bottom=0.1, top=0.9)\n",
    "q_values = results.variables.EnergyShedModel[\"q_values\"]\n",
    "anim = FuncAnimation(fig, q_values_plot, fargs=(q_values,), frames=range(len(q_values)), interval=500)\n",
    "IPython.display.HTML(anim.to_jshtml())"
   ]
  }
 ],
 "metadata": {
  "kernelspec": {
   "display_name": ".venv",
   "language": "python",
   "name": "python3"
  },
  "language_info": {
   "codemirror_mode": {
    "name": "ipython",
    "version": 3
   },
   "file_extension": ".py",
   "mimetype": "text/x-python",
   "name": "python",
   "nbconvert_exporter": "python",
   "pygments_lexer": "ipython3",
   "version": "3.10.6"
  },
  "vscode": {
   "interpreter": {
    "hash": "f74bb417f30a911f0cd6de54d99e06abb97ce3632e7174c2b5ad92bcb9ee3658"
   }
  }
 },
 "nbformat": 4,
 "nbformat_minor": 5
}
